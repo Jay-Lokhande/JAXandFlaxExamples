{
  "nbformat": 4,
  "nbformat_minor": 0,
  "metadata": {
    "colab": {
      "provenance": []
    },
    "kernelspec": {
      "name": "python3",
      "display_name": "Python 3"
    },
    "language_info": {
      "name": "python"
    }
  },
  "cells": [
    {
      "cell_type": "markdown",
      "source": [
        "Section 1: Introduction"
      ],
      "metadata": {
        "id": "Lfi1WLhXGe0P"
      }
    },
    {
      "cell_type": "markdown",
      "source": [
        "## Self-Attention Mechanism in Flax\n",
        "In this notebook, we’ll explore the self-attention mechanism, a key component of transformer models used in large language models (LLMs). Self-attention allows a model to weigh the importance of different words in a sequence when processing each word, making it ideal for tasks like natural language understanding.\n",
        "\n",
        "By the end, you’ll:\n",
        "- Understand the theory behind self-attention.\n",
        "- Implement it using Flax and JAX.\n",
        "- Visualize attention weights on a small example."
      ],
      "metadata": {
        "id": "L4Hdy6IhGKty"
      }
    },
    {
      "cell_type": "markdown",
      "source": [
        "Section 2: Theory"
      ],
      "metadata": {
        "id": "qR8ZGb0gGUj2"
      }
    },
    {
      "cell_type": "markdown",
      "source": [
        "### Theory of Self-Attention\n",
        "Self-attention computes a weighted sum of values (V) based on similarity scores between queries (Q) and keys (K). The formula is:\n",
        "\n",
        "**Attention(Q, K, V) = softmax(QK^T / √d_k)V**\n",
        "\n",
        "Where:\n",
        "- Q (queries), K (keys), V (values) are projections of the input sequence.\n",
        "- d_k is the dimension of the keys, used for scaling to prevent large values.\n",
        "\n",
        "This mechanism lets the model focus on relevant parts of the input dynamically."
      ],
      "metadata": {
        "id": "_2Xw_t0sGXT5"
      }
    },
    {
      "cell_type": "markdown",
      "source": [
        "Section 3: Setup"
      ],
      "metadata": {
        "id": "jBEw74tHGkU5"
      }
    },
    {
      "cell_type": "code",
      "source": [
        "# Install dependencies (if needed in your environment)\n",
        "# !pip install jax jaxlib flax matplotlib\n",
        "\n",
        "import jax\n",
        "import jax.numpy as jnp\n",
        "from flax import linen as nn\n",
        "import matplotlib.pyplot as plt\n",
        "\n",
        "# Set random seed for reproducibility\n",
        "rng = jax.random.PRNGKey(0)"
      ],
      "metadata": {
        "id": "gaoWkA3HGCyg"
      },
      "execution_count": 1,
      "outputs": []
    },
    {
      "cell_type": "markdown",
      "source": [
        "Section 4: Implementation"
      ],
      "metadata": {
        "id": "Z8i_7NgFGzxO"
      }
    },
    {
      "cell_type": "markdown",
      "source": [
        "### Implementing Self-Attention in Flax\n",
        "Let’s define a self-attention module using Flax’s `nn.Module`. We’ll assume the input is a sequence of vectors (e.g., word embeddings)."
      ],
      "metadata": {
        "id": "jPFJ8MADG1UY"
      }
    },
    {
      "cell_type": "code",
      "execution_count": 2,
      "metadata": {
        "id": "G2WsKvJmF76r"
      },
      "outputs": [],
      "source": [
        "class SelfAttention(nn.Module):\n",
        "    embed_dim: int  # Dimension of the input embeddings\n",
        "    head_dim: int   # Dimension per attention head\n",
        "\n",
        "    def setup(self):\n",
        "        # Define linear layers for Q, K, V projections\n",
        "        self.query = nn.Dense(features=self.head_dim)\n",
        "        self.key = nn.Dense(features=self.head_dim)\n",
        "        self.value = nn.Dense(features=self.head_dim)\n",
        "\n",
        "    def __call__(self, x):\n",
        "        # x shape: (batch_size, seq_len, embed_dim)\n",
        "        q = self.query(x)  # (batch_size, seq_len, head_dim)\n",
        "        k = self.key(x)    # (batch_size, seq_len, head_dim)\n",
        "        v = self.value(x)  # (batch_size, seq_len, head_dim)\n",
        "\n",
        "        # Compute attention scores\n",
        "        scores = jnp.matmul(q, k.transpose(0, 2, 1))  # (batch_size, seq_len, seq_len)\n",
        "        scores = scores / jnp.sqrt(self.head_dim)     # Scale by sqrt(d_k)\n",
        "        attn_weights = nn.softmax(scores, axis=-1)    # Normalize scores\n",
        "\n",
        "        # Apply attention weights to values\n",
        "        output = jnp.matmul(attn_weights, v)  # (batch_size, seq_len, head_dim)\n",
        "        return output, attn_weights\n",
        "\n",
        "# Initialize the module\n",
        "model = SelfAttention(embed_dim=64, head_dim=32)\n",
        "params = model.init(rng, jnp.ones((1, 5, 64)))  # Example input: batch=1, seq_len=5"
      ]
    },
    {
      "cell_type": "markdown",
      "source": [
        "Section 5: Example and Visualization"
      ],
      "metadata": {
        "id": "wYB3xpANG-Jk"
      }
    },
    {
      "cell_type": "markdown",
      "source": [
        "### Example: Applying Self-Attention\n",
        "Let’s test our implementation on a small sequence and visualize the attention weights."
      ],
      "metadata": {
        "id": "C6IYNPQAG_12"
      }
    },
    {
      "cell_type": "code",
      "source": [
        "# Create a sample input (batch_size=1, seq_len=5, embed_dim=64)\n",
        "x = jax.random.normal(rng, (1, 5, 64))\n",
        "output, attn_weights = model.apply(params, x)\n",
        "\n",
        "# Plot attention weights\n",
        "plt.imshow(attn_weights[0], cmap='viridis')\n",
        "plt.title(\"Attention Weights\")\n",
        "plt.xlabel(\"Key Position\")\n",
        "plt.ylabel(\"Query Position\")\n",
        "plt.colorbar()\n",
        "plt.show()"
      ],
      "metadata": {
        "colab": {
          "base_uri": "https://localhost:8080/",
          "height": 472
        },
        "id": "9vnsLUBuHA4x",
        "outputId": "f08a5c7e-c05c-4a2c-ff74-3788f00af881"
      },
      "execution_count": 3,
      "outputs": [
        {
          "output_type": "display_data",
          "data": {
            "text/plain": [
              "<Figure size 640x480 with 2 Axes>"
            ],
            "image/png": "[encoded data removed]"
          },
          "metadata": {}
        }
      ]
    },
    {
      "cell_type": "markdown",
      "source": [
        "Section 6: Conclusion"
      ],
      "metadata": {
        "id": "dpAI3NsLHDOO"
      }
    },
    {
      "cell_type": "markdown",
      "source": [
        "### Conclusion\n",
        "You’ve now implemented a self-attention layer in Flax! This is a building block for transformers. In the next notebook, we’ll extend this to multi-head attention to capture different aspects of the input sequence."
      ],
      "metadata": {
        "id": "ju923kk6HEb8"
      }
    }
  ]
}