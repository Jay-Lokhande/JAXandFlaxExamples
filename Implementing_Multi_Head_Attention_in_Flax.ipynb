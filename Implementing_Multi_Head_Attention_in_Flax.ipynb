{
  "nbformat": 4,
  "nbformat_minor": 0,
  "metadata": {
    "colab": {
      "provenance": []
    },
    "kernelspec": {
      "name": "python3",
      "display_name": "Python 3"
    },
    "language_info": {
      "name": "python"
    }
  },
  "cells": [
    {
      "cell_type": "markdown",
      "source": [
        "Section 1: Introduction"
      ],
      "metadata": {
        "id": "5skytPTc6Odf"
      }
    },
    {
      "cell_type": "markdown",
      "source": [
        "## Implementing Multi-Head Attention in Flax\n",
        "In this notebook, we’ll explore **multi-head attention**, a powerful mechanism in transformer models that allows the model to focus on different parts of an input sequence simultaneously. Building on the concept of self-attention, multi-head attention enhances flexibility and expressiveness.\n",
        "\n",
        "By the end of this notebook, you’ll:\n",
        "- Understand the purpose and benefits of multi-head attention.\n",
        "- Implement it using Flax and JAX.\n",
        "- Visualize attention weights to see how different heads work."
      ],
      "metadata": {
        "id": "mR7sCk0Q6Sf9"
      }
    },
    {
      "cell_type": "markdown",
      "source": [
        "Section 2: Theory"
      ],
      "metadata": {
        "id": "N5kUaz436WPz"
      }
    },
    {
      "cell_type": "markdown",
      "source": [
        "### Theory of Multi-Head Attention\n",
        "Multi-head attention runs several attention mechanisms (heads) in parallel, each with its own set of query (Q), key (K), and value (V) projections. The outputs are concatenated and linearly transformed to produce the final result.\n",
        "\n",
        "The mathematical formulation is:\n",
        "\n",
        "**MultiHead(Q, K, V) = Concat(head_1, ..., head_h) W^O**\n",
        "\n",
        "Where each **head_i = Attention(Q W_i^Q, K W_i^K, V W_i^V)**, and:\n",
        "- **W_i^Q, W_i^K, W_i^V**: Projection matrices for each head.\n",
        "- **W^O**: Final output projection matrix.\n",
        "\n",
        "This approach allows the model to capture diverse relationships in the data."
      ],
      "metadata": {
        "id": "llviEqvJ6XOn"
      }
    },
    {
      "cell_type": "markdown",
      "source": [
        "Section 3: Implementation"
      ],
      "metadata": {
        "id": "TSykRLNJ6YxA"
      }
    },
    {
      "cell_type": "markdown",
      "source": [
        "### Implementing Multi-Head Attention in Flax\n",
        "We’ll create a `MultiHeadAttention` module in Flax, which splits the input into multiple heads, computes attention, and combines the results."
      ],
      "metadata": {
        "id": "373k3xP76Z3K"
      }
    },
    {
      "cell_type": "code",
      "source": [
        "import jax\n",
        "import jax.numpy as jnp\n",
        "from flax import linen as nn\n",
        "\n",
        "class MultiHeadAttention(nn.Module):\n",
        "    embed_dim: int  # Dimension of input embeddings\n",
        "    num_heads: int  # Number of attention heads\n",
        "    head_dim: int   # Dimension per head\n",
        "\n",
        "    def setup(self):\n",
        "        # Projections for Q, K, V\n",
        "        self.query = nn.Dense(features=self.num_heads * self.head_dim)\n",
        "        self.key = nn.Dense(features=self.num_heads * self.head_dim)\n",
        "        self.value = nn.Dense(features=self.num_heads * self.head_dim)\n",
        "        self.out = nn.Dense(features=self.embed_dim)  # Final projection\n",
        "\n",
        "    def __call__(self, x):\n",
        "        batch_size, seq_len, _ = x.shape\n",
        "        # Project inputs to Q, K, V and reshape for heads\n",
        "        q = self.query(x).reshape(batch_size, seq_len, self.num_heads, self.head_dim).transpose(0, 2, 1, 3)\n",
        "        k = self.key(x).reshape(batch_size, seq_len, self.num_heads, self.head_dim).transpose(0, 2, 1, 3)\n",
        "        v = self.value(x).reshape(batch_size, seq_len, self.num_heads, self.head_dim).transpose(0, 2, 1, 3)\n",
        "\n",
        "        # Compute attention scores\n",
        "        scores = jnp.matmul(q, k.transpose(0, 1, 3, 2)) / jnp.sqrt(self.head_dim)\n",
        "        attn_weights = nn.softmax(scores, axis=-1)\n",
        "\n",
        "        # Apply attention to values\n",
        "        attn_output = jnp.matmul(attn_weights, v)\n",
        "        attn_output = attn_output.transpose(0, 2, 1, 3).reshape(batch_size, seq_len, -1)\n",
        "\n",
        "        # Final projection\n",
        "        output = self.out(attn_output)\n",
        "        return output, attn_weights\n",
        "\n",
        "# Initialize the module\n",
        "rng = jax.random.PRNGKey(0)\n",
        "model = MultiHeadAttention(embed_dim=64, num_heads=4, head_dim=16)\n",
        "params = model.init(rng, jnp.ones((1, 5, 64)))  # Example input: batch=1, seq_len=5"
      ],
      "metadata": {
        "id": "1_ZmqFtC6bIw"
      },
      "execution_count": 1,
      "outputs": []
    },
    {
      "cell_type": "markdown",
      "source": [
        "Section 4: Example and Visualization"
      ],
      "metadata": {
        "id": "FZ_wXc326hlc"
      }
    },
    {
      "cell_type": "markdown",
      "source": [
        "### Example: Applying Multi-Head Attention\n",
        "Let’s test our module with a small sequence and visualize the attention weights for different heads."
      ],
      "metadata": {
        "id": "Hf2K_d8T6ioK"
      }
    },
    {
      "cell_type": "code",
      "source": [
        "import matplotlib.pyplot as plt\n",
        "\n",
        "# Sample input\n",
        "x = jax.random.normal(rng, (1, 5, 64))\n",
        "output, attn_weights = model.apply(params, x)\n",
        "\n",
        "# Visualize attention weights for the first two heads\n",
        "fig, axes = plt.subplots(1, 2, figsize=(10, 4))\n",
        "for i in range(2):\n",
        "    axes[i].imshow(attn_weights[0, i], cmap='viridis')\n",
        "    axes[i].set_title(f\"Head {i+1}\")\n",
        "    axes[i].set_xlabel(\"Key Position\")\n",
        "    axes[i].set_ylabel(\"Query Position\")\n",
        "plt.show()"
      ],
      "metadata": {
        "colab": {
          "base_uri": "https://localhost:8080/",
          "height": 338
        },
        "id": "dq3AfhXB6kB_",
        "outputId": "386594b0-df86-4098-f6ad-e2df57e43833"
      },
      "execution_count": 2,
      "outputs": [
        {
          "output_type": "display_data",
          "data": {
            "text/plain": [
              "<Figure size 1000x400 with 2 Axes>"
            ],
            "image/png": "[encoded data removed]"
          },
          "metadata": {}
        }
      ]
    },
    {
      "cell_type": "markdown",
      "source": [
        "Section 5: Conclusion"
      ],
      "metadata": {
        "id": "HrL0m-Ln6oN-"
      }
    },
    {
      "cell_type": "markdown",
      "source": [
        "### Conclusion\n",
        "You’ve successfully implemented multi-head attention in Flax! This component is essential for transformers, enabling them to capture multiple aspects of the input. In the next notebook, we’ll use this to build a full transformer block."
      ],
      "metadata": {
        "id": "SQqyreMs6pSo"
      }
    },
    {
      "cell_type": "markdown",
      "source": [],
      "metadata": {
        "id": "n3jP-6E_6Vep"
      }
    }
  ]
}